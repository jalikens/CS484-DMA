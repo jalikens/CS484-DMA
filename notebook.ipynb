{
 "cells": [
  {
   "cell_type": "code",
   "execution_count": 6,
   "metadata": {},
   "outputs": [],
   "source": [
    "import pandas as pd \n",
    "import matplotlib as mpl\n",
    "import numpy as np\n",
    "\n",
    "# reading and storing data\n",
    "data = pd.read_csv('credit_card_fraud.csv', parse_dates=['trans_date_trans_time',])\n"
   ]
  },
  {
   "cell_type": "code",
   "execution_count": 8,
   "metadata": {},
   "outputs": [
    {
     "data": {
      "text/html": [
       "<div>\n",
       "<style scoped>\n",
       "    .dataframe tbody tr th:only-of-type {\n",
       "        vertical-align: middle;\n",
       "    }\n",
       "\n",
       "    .dataframe tbody tr th {\n",
       "        vertical-align: top;\n",
       "    }\n",
       "\n",
       "    .dataframe thead th {\n",
       "        text-align: right;\n",
       "    }\n",
       "</style>\n",
       "<table border=\"1\" class=\"dataframe\">\n",
       "  <thead>\n",
       "    <tr style=\"text-align: right;\">\n",
       "      <th></th>\n",
       "      <th>trans_date_trans_time</th>\n",
       "      <th>merchant</th>\n",
       "      <th>category</th>\n",
       "      <th>amt</th>\n",
       "      <th>city</th>\n",
       "      <th>state</th>\n",
       "      <th>lat</th>\n",
       "      <th>long</th>\n",
       "      <th>city_pop</th>\n",
       "      <th>job</th>\n",
       "      <th>dob</th>\n",
       "      <th>merch_lat</th>\n",
       "      <th>merch_long</th>\n",
       "      <th>is_fraud</th>\n",
       "      <th>hour_of_transaction</th>\n",
       "    </tr>\n",
       "  </thead>\n",
       "  <tbody>\n",
       "    <tr>\n",
       "      <th>339602</th>\n",
       "      <td>2020-12-31 23:57:56</td>\n",
       "      <td>Schmidt-Larkin</td>\n",
       "      <td>home</td>\n",
       "      <td>12.68</td>\n",
       "      <td>Wales</td>\n",
       "      <td>AK</td>\n",
       "      <td>64.7556</td>\n",
       "      <td>-165.6723</td>\n",
       "      <td>145</td>\n",
       "      <td>Administrator, education</td>\n",
       "      <td>1939-11-09</td>\n",
       "      <td>65.623593</td>\n",
       "      <td>-165.186033</td>\n",
       "      <td>0</td>\n",
       "      <td>23</td>\n",
       "    </tr>\n",
       "    <tr>\n",
       "      <th>339603</th>\n",
       "      <td>2020-12-31 23:58:04</td>\n",
       "      <td>Pouros, Walker and Spence</td>\n",
       "      <td>kids_pets</td>\n",
       "      <td>13.02</td>\n",
       "      <td>Greenview</td>\n",
       "      <td>CA</td>\n",
       "      <td>41.5403</td>\n",
       "      <td>-122.9366</td>\n",
       "      <td>308</td>\n",
       "      <td>Call centre manager</td>\n",
       "      <td>1958-09-20</td>\n",
       "      <td>41.973127</td>\n",
       "      <td>-123.553032</td>\n",
       "      <td>0</td>\n",
       "      <td>23</td>\n",
       "    </tr>\n",
       "    <tr>\n",
       "      <th>339604</th>\n",
       "      <td>2020-12-31 23:59:07</td>\n",
       "      <td>Reilly and Sons</td>\n",
       "      <td>health_fitness</td>\n",
       "      <td>43.77</td>\n",
       "      <td>Luray</td>\n",
       "      <td>MO</td>\n",
       "      <td>40.4931</td>\n",
       "      <td>-91.8912</td>\n",
       "      <td>519</td>\n",
       "      <td>Town planner</td>\n",
       "      <td>1966-02-13</td>\n",
       "      <td>39.946837</td>\n",
       "      <td>-91.333331</td>\n",
       "      <td>0</td>\n",
       "      <td>23</td>\n",
       "    </tr>\n",
       "    <tr>\n",
       "      <th>339605</th>\n",
       "      <td>2020-12-31 23:59:15</td>\n",
       "      <td>Rau-Robel</td>\n",
       "      <td>kids_pets</td>\n",
       "      <td>86.88</td>\n",
       "      <td>Burbank</td>\n",
       "      <td>WA</td>\n",
       "      <td>46.1966</td>\n",
       "      <td>-118.9017</td>\n",
       "      <td>3684</td>\n",
       "      <td>Musician</td>\n",
       "      <td>1981-11-29</td>\n",
       "      <td>46.658340</td>\n",
       "      <td>-119.715054</td>\n",
       "      <td>0</td>\n",
       "      <td>23</td>\n",
       "    </tr>\n",
       "    <tr>\n",
       "      <th>339606</th>\n",
       "      <td>2020-12-31 23:59:24</td>\n",
       "      <td>Breitenberg LLC</td>\n",
       "      <td>travel</td>\n",
       "      <td>7.99</td>\n",
       "      <td>Mesa</td>\n",
       "      <td>ID</td>\n",
       "      <td>44.6255</td>\n",
       "      <td>-116.4493</td>\n",
       "      <td>129</td>\n",
       "      <td>Cartographer</td>\n",
       "      <td>1965-12-15</td>\n",
       "      <td>44.470525</td>\n",
       "      <td>-117.080888</td>\n",
       "      <td>0</td>\n",
       "      <td>23</td>\n",
       "    </tr>\n",
       "  </tbody>\n",
       "</table>\n",
       "</div>"
      ],
      "text/plain": [
       "       trans_date_trans_time                   merchant        category  \\\n",
       "339602   2020-12-31 23:57:56             Schmidt-Larkin            home   \n",
       "339603   2020-12-31 23:58:04  Pouros, Walker and Spence       kids_pets   \n",
       "339604   2020-12-31 23:59:07            Reilly and Sons  health_fitness   \n",
       "339605   2020-12-31 23:59:15                  Rau-Robel       kids_pets   \n",
       "339606   2020-12-31 23:59:24            Breitenberg LLC          travel   \n",
       "\n",
       "          amt       city state      lat      long  city_pop  \\\n",
       "339602  12.68      Wales    AK  64.7556 -165.6723       145   \n",
       "339603  13.02  Greenview    CA  41.5403 -122.9366       308   \n",
       "339604  43.77      Luray    MO  40.4931  -91.8912       519   \n",
       "339605  86.88    Burbank    WA  46.1966 -118.9017      3684   \n",
       "339606   7.99       Mesa    ID  44.6255 -116.4493       129   \n",
       "\n",
       "                             job         dob  merch_lat  merch_long  is_fraud  \\\n",
       "339602  Administrator, education  1939-11-09  65.623593 -165.186033         0   \n",
       "339603       Call centre manager  1958-09-20  41.973127 -123.553032         0   \n",
       "339604              Town planner  1966-02-13  39.946837  -91.333331         0   \n",
       "339605                  Musician  1981-11-29  46.658340 -119.715054         0   \n",
       "339606              Cartographer  1965-12-15  44.470525 -117.080888         0   \n",
       "\n",
       "        hour_of_transaction  \n",
       "339602                   23  \n",
       "339603                   23  \n",
       "339604                   23  \n",
       "339605                   23  \n",
       "339606                   23  "
      ]
     },
     "execution_count": 8,
     "metadata": {},
     "output_type": "execute_result"
    }
   ],
   "source": [
    "# getting rid of columns not needed\n",
    "#data = data.drop(['trans_num'], axis = 1)\n",
    "\n",
    "data['hour_of_transaction'] = data.trans_date_trans_time.dt.hour\n",
    "data.tail()"
   ]
  },
  {
   "cell_type": "code",
   "execution_count": 37,
   "metadata": {},
   "outputs": [
    {
     "data": {
      "text/plain": [
       "<AxesSubplot: >"
      ]
     },
     "execution_count": 37,
     "metadata": {},
     "output_type": "execute_result"
    },
    {
     "data": {
      "image/png": "[encoded data removed]",
      "text/plain": [
       "<Figure size 640x480 with 1 Axes>"
      ]
     },
     "metadata": {},
     "output_type": "display_data"
    }
   ],
   "source": [
    "# States with the most fraud, and the percentage of fraud in those states\n",
    "fraud_states = data.query('is_fraud==1')['state']\n",
    "fraud_counts = fraud_states.value_counts()\n",
    "fraud_counts.plot.bar()"
   ]
  },
  {
   "cell_type": "code",
   "execution_count": 38,
   "metadata": {},
   "outputs": [
    {
     "data": {
      "text/plain": [
       "<AxesSubplot: >"
      ]
     },
     "execution_count": 38,
     "metadata": {},
     "output_type": "execute_result"
    },
    {
     "data": {
      "image/png": "[encoded data removed]",
      "text/plain": [
       "<Figure size 640x480 with 1 Axes>"
      ]
     },
     "metadata": {},
     "output_type": "display_data"
    }
   ],
   "source": [
    "# percentage of fraud in each state\n",
    "state_fraud_perc = (fraud_counts/data['state'].value_counts())*100\n",
    "state_fraud_perc.plot.bar()"
   ]
  }
 ],
 "metadata": {
  "kernelspec": {
   "display_name": "cs484",
   "language": "python",
   "name": "python3"
  },
  "language_info": {
   "codemirror_mode": {
    "name": "ipython",
    "version": 3
   },
   "file_extension": ".py",
   "mimetype": "text/x-python",
   "name": "python",
   "nbconvert_exporter": "python",
   "pygments_lexer": "ipython3",
   "version": "3.9.16"
  },
  "orig_nbformat": 4
 },
 "nbformat": 4,
 "nbformat_minor": 2
}
