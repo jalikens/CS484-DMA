{
 "cells": [
  {
   "cell_type": "markdown",
   "metadata": {},
   "source": [
    "# MODELS FOR DETECTING CREDIT CARD FRAUD\n",
    "- **Logistic Regression**\n",
    "- **Random Forest**\n",
    "- **KNN**\n",
    "- **Neural Network**"
   ]
  },
  {
   "cell_type": "code",
   "execution_count": 2,
   "metadata": {},
   "outputs": [],
   "source": [
    "'''IMPORTS'''\n",
    "\n",
    "# Data Collection & Pre-processing\n",
    "import pandas as pd\n",
    "import numpy as np\n",
    "import seaborn as sns\n",
    "import math\n",
    "import matplotlib.pyplot as plt\n",
    "from sklearn.model_selection import train_test_split\n",
    "from sklearn.preprocessing import OneHotEncoder\n",
    "from imblearn.under_sampling import RandomUnderSampler\n",
    "from imblearn.over_sampling import RandomOverSampler\n",
    "from sklearn.decomposition import PCA\n",
    "from sklearn.neighbors import KNeighborsClassifier\n",
    "\n",
    "# Logistic Regression\n",
    "from sklearn.linear_model import LogisticRegression\n",
    "from sklearn.pipeline import make_pipeline\n",
    "from sklearn.metrics import accuracy_score, precision_score, recall_score, f1_score, confusion_matrix\n",
    "\n",
    "# Random Forest Classifier\n",
    "from sklearn.ensemble import RandomForestClassifier\n",
    "\n",
    "#Neural Network: MLP Classifier\n",
    "from sklearn.neural_network import MLPClassifier"
   ]
  },
  {
   "cell_type": "markdown",
   "metadata": {},
   "source": [
    "# Data Collection and Helper Function \n",
    "**file** >> credit_card_fraud.cvs"
   ]
  },
  {
   "cell_type": "code",
   "execution_count": 3,
   "metadata": {},
   "outputs": [],
   "source": [
    "'''DATA COLLECTION'''\n",
    "data = pd.read_csv('credit_card_fraud.csv', parse_dates=['trans_date_trans_time',])\n",
    "\n",
    "X = data.drop(['is_fraud'], axis=1)\n",
    "Y = data['is_fraud']"
   ]
  },
  {
   "cell_type": "code",
   "execution_count": 4,
   "metadata": {},
   "outputs": [],
   "source": [
    "'''HELPER FUNCTIONS'''\n",
    "\n",
    "# Method to calculate the distance between to longitude and latitude points.\n",
    "# Since we have both the customer (lat, long) at time of purchase and the merchant's (lat,long) we can compute the distance between the two\n",
    "# this could lead us seeing if the is any correlation between how far a purchase is and if it is fraud or not\n",
    "def distance(lat1, lon1, lat2, lon2):\n",
    "    # radius of the Earth in km\n",
    "    R = 6371.0\n",
    "\n",
    "    # convert degrees to radians\n",
    "    lat1 = math.radians(lat1)\n",
    "    lon1 = math.radians(lon1)\n",
    "    lat2 = math.radians(lat2)\n",
    "    lon2 = math.radians(lon2)\n",
    "\n",
    "    # compute the differences between the two points\n",
    "    dlon = lon2 - lon1\n",
    "    dlat = lat2 - lat1\n",
    "\n",
    "    # compute the Haversine formula\n",
    "    a = math.sin(dlat / 2)**2 + math.cos(lat1) * math.cos(lat2) * math.sin(dlon / 2)**2\n",
    "    c = 2 * math.atan2(math.sqrt(a), math.sqrt(1 - a))\n",
    "    dist = R * c\n",
    "\n",
    "    return dist"
   ]
  },
  {
   "cell_type": "markdown",
   "metadata": {},
   "source": [
    "# Pre-processing\n",
    "- **changing data types** for date of birth\n",
    "- **adding dimensions** for time of transactions & age\n",
    "- **one-hot encoding** for abnormal transaction time & jurisdiction \n",
    "- **removing dimensions** for unnecessary information \n",
    "\n",
    "\n",
    "- **Min-Max Normalization** for age\n",
    "- **Z-Score Normalization** for AMT and city population"
   ]
  },
  {
   "cell_type": "code",
   "execution_count": 5,
   "metadata": {},
   "outputs": [
    {
     "name": "stdout",
     "output_type": "stream",
     "text": [
      "date of birth changed\n",
      "dimensions added\n"
     ]
    }
   ],
   "source": [
    "# changing data types\n",
    "X['dob'] = pd.to_datetime(X['dob'])\n",
    "print(\"date of birth changed\")\n",
    "\n",
    "# creating columns out of our original dataset --------------------------\n",
    "\n",
    "X['hour_of_transaction'] = X.trans_date_trans_time.dt.hour # hour of transaction\n",
    "X['month_of_transaction'] = X.trans_date_trans_time.dt.month # month of transaction\n",
    "X['dow_of_transaction'] = X.trans_date_trans_time.dt.day_name() # day of week of transaction\n",
    "X['cust_age'] = (X['trans_date_trans_time'] - X['dob']).astype('timedelta64[Y]') # age of person during transaction\n",
    "X['distance_of_transaction'] = X.apply(lambda row: distance(row['lat'], row['long'], row['merch_lat'], row['merch_long']), axis=1) # distance of transaction\n",
    "print(\"dimensions added (hour_of_transaction, month_of_transaction, dow_of_transaction, cust_age, distance_of_transaction)\")\n",
    "\n",
    "# encoding: 0 = normal time, 1 = odd time\n",
    "X['Normal_transaction_time'] = 0\n",
    "X.loc[X.hour_of_transaction < 5,'Normal_transaction_time'] = 1\n",
    "X.loc[X.hour_of_transaction > 21,'Normal_transaction_time'] = 1\n",
    "print(\"encoded Normal_transaction_time\");\n",
    "\n",
    "# one-hot encoding the categorical features\n",
    "encoder = OneHotEncoder()\n",
    "dow_encoded = encoder.fit_transform(X[['dow_of_transaction']])\n",
    "dow_encoded_df = pd.DataFrame(dow_encoded.toarray(), columns=encoder.categories_[0])\n",
    "X = pd.concat([X, dow_encoded_df], axis=1)\n",
    "print(\"one hot encoding for dow_of_transaction completed\")\n",
    "\n",
    "state_encoded = encoder.fit_transform(X[['state']])\n",
    "state_encoded_df = pd.DataFrame(state_encoded.toarray(), columns=encoder.categories_[0])\n",
    "X = pd.concat([X,state_encoded_df], axis=1)\n",
    "print(\"one hot encoding for state completed\")\n",
    "\n",
    "merch_encoded = encoder.fit_transform(X[['merchant']])\n",
    "merch_encoded_df = pd.DataFrame(merch_encoded.toarray(), columns=encoder.categories_[0])\n",
    "X = pd.concat([X, merch_encoded_df], axis=1)\n",
    "print(\"one hot encoding for merchant completed\")\n",
    "\n",
    "cat_encoded = encoder.fit_transform(X[['category']])\n",
    "cat_encoded_df = pd.DataFrame(cat_encoded.toarray(), columns=encoder.categories_[0])\n",
    "X = pd.concat([X, cat_encoded_df], axis=1)\n",
    "print(\"one hot encoding for category completed\")\n",
    "\n",
    "city_encoded = encoder.fit_transform(X[['city']])\n",
    "city_encoded_df = pd.DataFrame(city_encoded.toarray(), columns=encoder.categories_[0])\n",
    "X = pd.concat([X, city_encoded_df], axis=1)\n",
    "print(\"one hot encoding for city completed\")\n",
    "\n",
    "# Normalizing the features with varying ranges of numbers ------------------------------------------------------------\n",
    "\n",
    "# min-max normalization since no real outliers for these features\n",
    "X['cust_age'] = (X['cust_age'] - X['cust_age'].min()) / (X['cust_age'].max() - X['cust_age'].min())\n",
    "print(\"min-max normalization of cust_age completed\")\n",
    "\n",
    "# z-score normalization for values that are wide-spread such as amt and city population\n",
    "X['amt'] = (X['amt'] - X['amt'].mean()) / X['amt'].std() \n",
    "X['city_pop'] = (X['city_pop'] - X['city_pop'].mean()) / X['city_pop'].std()\n",
    "print(\"z-score normalization of amt and city_pop completed\")\n",
    "\n",
    "# getting rid of unnecessary columns\n",
    "X.drop(['trans_num', 'job','trans_date_trans_time', 'state', 'city', 'merchant', 'category', 'dow_of_transaction', 'dob'], axis=1, inplace=True)\n",
    "print(\"pre-processing completed\")"
   ]
  },
  {
   "cell_type": "code",
   "execution_count": 5,
   "metadata": {},
   "outputs": [
    {
     "data": {
      "text/html": [
       "<div>\n",
       "<style scoped>\n",
       "    .dataframe tbody tr th:only-of-type {\n",
       "        vertical-align: middle;\n",
       "    }\n",
       "\n",
       "    .dataframe tbody tr th {\n",
       "        vertical-align: top;\n",
       "    }\n",
       "\n",
       "    .dataframe thead th {\n",
       "        text-align: right;\n",
       "    }\n",
       "</style>\n",
       "<table border=\"1\" class=\"dataframe\">\n",
       "  <thead>\n",
       "    <tr style=\"text-align: right;\">\n",
       "      <th></th>\n",
       "      <th>amt</th>\n",
       "      <th>lat</th>\n",
       "      <th>long</th>\n",
       "      <th>city_pop</th>\n",
       "      <th>merch_lat</th>\n",
       "      <th>merch_long</th>\n",
       "      <th>hour_of_transaction</th>\n",
       "      <th>month_of_transaction</th>\n",
       "      <th>cust_age</th>\n",
       "      <th>distance_of_transaction</th>\n",
       "      <th>...</th>\n",
       "      <th>Wales</th>\n",
       "      <th>Wappapello</th>\n",
       "      <th>Weeping Water</th>\n",
       "      <th>Wendel</th>\n",
       "      <th>Westerville</th>\n",
       "      <th>Westfir</th>\n",
       "      <th>Wheaton</th>\n",
       "      <th>Williamsburg</th>\n",
       "      <th>Woods Cross</th>\n",
       "      <th>Yellowstone National Park</th>\n",
       "    </tr>\n",
       "  </thead>\n",
       "  <tbody>\n",
       "    <tr>\n",
       "      <th>0</th>\n",
       "      <td>0.226701</td>\n",
       "      <td>48.8878</td>\n",
       "      <td>-118.2105</td>\n",
       "      <td>-0.365123</td>\n",
       "      <td>49.159047</td>\n",
       "      <td>-118.186462</td>\n",
       "      <td>0</td>\n",
       "      <td>1</td>\n",
       "      <td>0.302632</td>\n",
       "      <td>30.212176</td>\n",
       "      <td>...</td>\n",
       "      <td>0.0</td>\n",
       "      <td>0.0</td>\n",
       "      <td>0.0</td>\n",
       "      <td>0.0</td>\n",
       "      <td>0.0</td>\n",
       "      <td>0.0</td>\n",
       "      <td>0.0</td>\n",
       "      <td>0.0</td>\n",
       "      <td>0.0</td>\n",
       "      <td>0.0</td>\n",
       "    </tr>\n",
       "    <tr>\n",
       "      <th>1</th>\n",
       "      <td>0.924891</td>\n",
       "      <td>42.1808</td>\n",
       "      <td>-112.2620</td>\n",
       "      <td>-0.351455</td>\n",
       "      <td>43.150704</td>\n",
       "      <td>-112.154481</td>\n",
       "      <td>0</td>\n",
       "      <td>1</td>\n",
       "      <td>0.513158</td>\n",
       "      <td>108.206083</td>\n",
       "      <td>...</td>\n",
       "      <td>0.0</td>\n",
       "      <td>0.0</td>\n",
       "      <td>0.0</td>\n",
       "      <td>0.0</td>\n",
       "      <td>0.0</td>\n",
       "      <td>0.0</td>\n",
       "      <td>0.0</td>\n",
       "      <td>0.0</td>\n",
       "      <td>0.0</td>\n",
       "      <td>0.0</td>\n",
       "    </tr>\n",
       "    <tr>\n",
       "      <th>2</th>\n",
       "      <td>0.159035</td>\n",
       "      <td>41.6125</td>\n",
       "      <td>-122.5258</td>\n",
       "      <td>-0.363621</td>\n",
       "      <td>41.657520</td>\n",
       "      <td>-122.230347</td>\n",
       "      <td>0</td>\n",
       "      <td>1</td>\n",
       "      <td>0.736842</td>\n",
       "      <td>25.059079</td>\n",
       "      <td>...</td>\n",
       "      <td>0.0</td>\n",
       "      <td>0.0</td>\n",
       "      <td>0.0</td>\n",
       "      <td>0.0</td>\n",
       "      <td>0.0</td>\n",
       "      <td>0.0</td>\n",
       "      <td>0.0</td>\n",
       "      <td>0.0</td>\n",
       "      <td>0.0</td>\n",
       "      <td>0.0</td>\n",
       "    </tr>\n",
       "    <tr>\n",
       "      <th>3</th>\n",
       "      <td>-0.388482</td>\n",
       "      <td>32.9396</td>\n",
       "      <td>-105.8189</td>\n",
       "      <td>-0.362563</td>\n",
       "      <td>32.863258</td>\n",
       "      <td>-106.520205</td>\n",
       "      <td>0</td>\n",
       "      <td>1</td>\n",
       "      <td>0.447368</td>\n",
       "      <td>66.021685</td>\n",
       "      <td>...</td>\n",
       "      <td>0.0</td>\n",
       "      <td>0.0</td>\n",
       "      <td>0.0</td>\n",
       "      <td>0.0</td>\n",
       "      <td>0.0</td>\n",
       "      <td>0.0</td>\n",
       "      <td>0.0</td>\n",
       "      <td>0.0</td>\n",
       "      <td>0.0</td>\n",
       "      <td>0.0</td>\n",
       "    </tr>\n",
       "    <tr>\n",
       "      <th>4</th>\n",
       "      <td>-0.394173</td>\n",
       "      <td>43.0172</td>\n",
       "      <td>-111.0292</td>\n",
       "      <td>-0.364024</td>\n",
       "      <td>43.753735</td>\n",
       "      <td>-111.454923</td>\n",
       "      <td>0</td>\n",
       "      <td>1</td>\n",
       "      <td>0.447368</td>\n",
       "      <td>88.830984</td>\n",
       "      <td>...</td>\n",
       "      <td>0.0</td>\n",
       "      <td>0.0</td>\n",
       "      <td>0.0</td>\n",
       "      <td>0.0</td>\n",
       "      <td>0.0</td>\n",
       "      <td>0.0</td>\n",
       "      <td>0.0</td>\n",
       "      <td>0.0</td>\n",
       "      <td>0.0</td>\n",
       "      <td>0.0</td>\n",
       "    </tr>\n",
       "  </tbody>\n",
       "</table>\n",
       "<p>5 rows × 914 columns</p>\n",
       "</div>"
      ],
      "text/plain": [
       "        amt      lat      long  city_pop  merch_lat  merch_long  \\\n",
       "0  0.226701  48.8878 -118.2105 -0.365123  49.159047 -118.186462   \n",
       "1  0.924891  42.1808 -112.2620 -0.351455  43.150704 -112.154481   \n",
       "2  0.159035  41.6125 -122.5258 -0.363621  41.657520 -122.230347   \n",
       "3 -0.388482  32.9396 -105.8189 -0.362563  32.863258 -106.520205   \n",
       "4 -0.394173  43.0172 -111.0292 -0.364024  43.753735 -111.454923   \n",
       "\n",
       "   hour_of_transaction  month_of_transaction  cust_age  \\\n",
       "0                    0                     1  0.302632   \n",
       "1                    0                     1  0.513158   \n",
       "2                    0                     1  0.736842   \n",
       "3                    0                     1  0.447368   \n",
       "4                    0                     1  0.447368   \n",
       "\n",
       "   distance_of_transaction  ...  Wales  Wappapello  Weeping Water  Wendel  \\\n",
       "0                30.212176  ...    0.0         0.0            0.0     0.0   \n",
       "1               108.206083  ...    0.0         0.0            0.0     0.0   \n",
       "2                25.059079  ...    0.0         0.0            0.0     0.0   \n",
       "3                66.021685  ...    0.0         0.0            0.0     0.0   \n",
       "4                88.830984  ...    0.0         0.0            0.0     0.0   \n",
       "\n",
       "   Westerville  Westfir  Wheaton  Williamsburg  Woods Cross  \\\n",
       "0          0.0      0.0      0.0           0.0          0.0   \n",
       "1          0.0      0.0      0.0           0.0          0.0   \n",
       "2          0.0      0.0      0.0           0.0          0.0   \n",
       "3          0.0      0.0      0.0           0.0          0.0   \n",
       "4          0.0      0.0      0.0           0.0          0.0   \n",
       "\n",
       "   Yellowstone National Park  \n",
       "0                        0.0  \n",
       "1                        0.0  \n",
       "2                        0.0  \n",
       "3                        0.0  \n",
       "4                        0.0  \n",
       "\n",
       "[5 rows x 914 columns]"
      ]
     },
     "execution_count": 5,
     "metadata": {},
     "output_type": "execute_result"
    }
   ],
   "source": [
    "X.head()"
   ]
  },
  {
   "cell_type": "markdown",
   "metadata": {},
   "source": [
    "Since this data set is heavely skewed in Non-Fraudulent transactions favor, we have done some research in how to address this.\n",
    "We concluded that we can take the approach of doing under-sampling, over-sampling, and combining both.\n",
    "\n",
    "Under-sampling: The number of samples taken from majority class (Not Fraud) will be equal to total number of samples of minority class (Fraud)\n",
    "Over-sampling: Selecting random samples from the minority class (Fraud) and adding to the training data copies of the sample"
   ]
  },
  {
   "cell_type": "markdown",
   "metadata": {},
   "source": [
    "# Logistic Regression Model (Undersampling)\n",
    "\n",
    "**Hyperparameters**\n",
    "- **test_size**: The portion of training data used to test against\n",
    "- **solver**: The solver used to optimize the accuracy of the model\n",
    "- **penalty**: The norm for determining the penalty of contributive variables\n",
    "- **C**: The inverse strength for checking penalty\n",
    "\n",
    "**Tuned Hyperparameters**\n",
    "- **test_size** = 0.06\n",
    "- **solver** = 'newton-cg'\n",
    "- **penalty** = 'l2'\n",
    "- **C** = 1"
   ]
  },
  {
   "cell_type": "code",
   "execution_count": 6,
   "metadata": {},
   "outputs": [
    {
     "name": "stdout",
     "output_type": "stream",
     "text": [
      "Training Data Shape   :  (3350, 914)\n",
      "Training Labels Shape :  (3350,)\n",
      "Testing Data Shape    :  (214, 914)\n",
      "Testing Labels Shape  :  (214,)\n",
      "\n",
      "Logistic Regression Results with Under-Sampling:\n",
      "\n",
      "Training Accuracy :  0.9205970149253732\n",
      "Testing  Accuracy :  0.897196261682243\n",
      "\n",
      "Training Set f1 score :  0.9212551805802252\n",
      "Testing  Set f1 score :  0.8910891089108911\n",
      "\n",
      "Test set precision :  0.9174528301886793\n",
      "Test set recall    :  0.9\n"
     ]
    },
    {
     "data": {
      "image/png": "[encoded data removed]",
      "text/plain": [
       "<Figure size 800x400 with 2 Axes>"
      ]
     },
     "metadata": {},
     "output_type": "display_data"
    }
   ],
   "source": [
    "under_sample = RandomUnderSampler()\n",
    "X_under, Y_under = under_sample.fit_resample(X,Y) # data set used for all under sampled models\n",
    "\n",
    "X_train_u, X_test_u, Y_train_u, Y_test_u = train_test_split(X_under, Y_under, test_size = 0.06, random_state=42)\n",
    "\n",
    "print('Training Data Shape   : ', X_train_u.shape)\n",
    "print('Training Labels Shape : ', Y_train_u.shape)\n",
    "print('Testing Data Shape    : ', X_test_u.shape)\n",
    "print('Testing Labels Shape  : ', Y_test_u.shape)\n",
    "print()\n",
    "\n",
    "lr_model = LogisticRegression(max_iter=200, solver='newton-cg', penalty='l2', C=1)\n",
    "lr_model.fit(X_train_u,Y_train_u)\n",
    "\n",
    "pred_train_lr = lr_model.predict(X_train_u)\n",
    "pred_test_lr  = lr_model.predict(X_test_u)\n",
    "\n",
    "print('Logistic Regression Results with Under-Sampling:')\n",
    "print()\n",
    "print('Training Accuracy : ', accuracy_score(Y_train_u, pred_train_lr))\n",
    "print('Testing  Accuracy : ', accuracy_score(Y_test_u, pred_test_lr))\n",
    "\n",
    "# Checking f1 score, precision and recall\n",
    "print()\n",
    "print('Training Set f1 score : ', f1_score(Y_train_u, pred_train_lr))\n",
    "print('Testing  Set f1 score : ', f1_score(Y_test_u, pred_test_lr))\n",
    "print()\n",
    "print('Test set precision : ', precision_score(Y_train_u, pred_train_lr))\n",
    "print('Test set recall    : ', recall_score(Y_test_u, pred_test_lr))\n",
    "\n",
    "# showing confusion matrix results\n",
    "cm = confusion_matrix(Y_test_u, pred_test_lr)\n",
    "\n",
    "plt.figure(figsize = (8,4), dpi = 100)\n",
    "sns.heatmap(cm, annot=True, cmap=\"Blues\")\n",
    "plt.title(\"Confusion Matrix for Logistic Regression w/ Under-Sampling\")\n",
    "plt.xlabel(\"Predicted\")\n",
    "plt.ylabel(\"True\")\n",
    "plt.show()"
   ]
  },
  {
   "cell_type": "markdown",
   "metadata": {},
   "source": [
    "# Random Forest Model (Undersampling)\n",
    "\n",
    "**Hyperparameters**\n",
    "- **test_size**: The portion of training data used to test against\n",
    "- **n_estimators**: The number of decision tress that are \"grown\" in random forest\n",
    "- **max_depth**: The maximum depth for each decision tree\n",
    "\n",
    "\n",
    "**Tuned Hyperparameters**\n",
    "- **test_size** = 0.06\n",
    "- **n_estimators** = 104\n",
    "- **max_depth** = 53"
   ]
  },
  {
   "cell_type": "code",
   "execution_count": 38,
   "metadata": {},
   "outputs": [
    {
     "name": "stdout",
     "output_type": "stream",
     "text": [
      "Random Forest Classifier Results with Under-Sampling:\n",
      "\n",
      "Training Set Accuracy :  1.0\n",
      "Testing Set Accuracy  :  0.9532710280373832\n"
     ]
    }
   ],
   "source": [
    "X_train_u, X_test_u, Y_train_u, Y_test_u = train_test_split(X_under, Y_under, test_size = 0.06, random_state=42)\n",
    "\n",
    "rf_classifier = RandomForestClassifier(n_estimators=150, max_depth=53, random_state=42)\n",
    "rf_classifier.fit(X_train_u, Y_train_u)\n",
    "\n",
    "pred_train_rf = rf_classifier.predict(X_train_u)\n",
    "pred_test_rf = rf_classifier.predict(X_test_u)\n",
    "\n",
    "print('Random Forest Classifier Results with Under-Sampling:')\n",
    "print()\n",
    "\n",
    "print('Training Set Accuracy : ', accuracy_score(Y_train_u, pred_train_rf))\n",
    "print('Testing Set Accuracy  : ', accuracy_score(Y_test_u, pred_test_rf))"
   ]
  },
  {
   "cell_type": "markdown",
   "metadata": {},
   "source": [
    "# KNN Model (Undersampling)\n",
    "**Hyperparameters**\n",
    "- **K**: the number of neighbors to compare to a nearby point\n",
    "- **weight**: the method for weighting the importance of neighbors relative to the point\n",
    "\n",
    "**Tuned Hyperparameters**\n",
    "- **K** = 1\n",
    "- **weight** = uniform"
   ]
  },
  {
   "cell_type": "code",
   "execution_count": 28,
   "metadata": {},
   "outputs": [],
   "source": [
    "#KNN method\n",
    "def KNN(k, algorithm, distance, weight, x_train, y_train):\n",
    "    knn = KNeighborsClassifier(n_neighbors=k, algorithm=algorithm, metric=distance, weights=weight)\n",
    "    knn.fit(x_train, y_train)   \n",
    "\n",
    "    return knn\n",
    "\n",
    "#PCA method\n",
    "def PCA_calc(n, X):\n",
    "    pca = PCA(n_components=n)\n",
    "    # Fit the PCA model to the data and transform it   \n",
    "    X_pca = pca.fit_transform(X)\n",
    "    X_pca = pd.DataFrame(X_pca)\n",
    "    \n",
    "    return X_pca"
   ]
  },
  {
   "cell_type": "code",
   "execution_count": 42,
   "metadata": {},
   "outputs": [
    {
     "name": "stdout",
     "output_type": "stream",
     "text": [
      "Accuracy: 0.9934483672447808\n",
      "Precision: 0.3522727272727273\n",
      "Recall: 0.25340599455040874\n",
      "F1-score: 0.29477020602218695\n"
     ]
    },
    {
     "data": {
      "image/png": "[encoded data removed]",
      "text/plain": [
       "<Figure size 800x400 with 2 Axes>"
      ]
     },
     "metadata": {},
     "output_type": "display_data"
    }
   ],
   "source": [
    "X_pca_10 = PCA_calc(10,X_under)\n",
    "\n",
    "X_train_pca, X_test_pca, Y_train_pca, Y_test_pca = train_test_split(X_pca_10, Y, test_size = 0.2, random_state=42)\n",
    "\n",
    "knn = KNN(1, 'auto','euclidean', 'uniform', X_train_pca, Y_train_pca)\n",
    "y_pred = knn.predict(X_test_pca)\n",
    "acc = accuracy_score(Y_test_pca, y_pred)\n",
    "\n",
    "print(\"Accuracy:\", accuracy_score(Y_test_pca, y_pred))\n",
    "print(\"Precision:\", precision_score(Y_test_pca, y_pred))\n",
    "print(\"Recall:\", recall_score(Y_test_pca, y_pred))\n",
    "print(\"F1-score:\", f1_score(Y_test_pca, y_pred))\n",
    "\n",
    "# showing confusion matrix results\n",
    "cm = confusion_matrix(Y_test_pca, y_pred)\n",
    "\n",
    "plt.figure(figsize = (8,4), dpi = 100)\n",
    "sns.heatmap(cm, annot=True, cmap=\"Blues\")\n",
    "plt.title(\"Confusion Matrix for KNN w/ PCA\")\n",
    "plt.xlabel(\"Predicted\")\n",
    "plt.ylabel(\"True\")\n",
    "plt.show()"
   ]
  },
  {
   "cell_type": "markdown",
   "metadata": {},
   "source": [
    "# Neural Network (Undersampling)\n",
    "**Hyperparameters**\n",
    "\n",
    "\n",
    "**Tuned Hyperparameters**\n"
   ]
  },
  {
   "cell_type": "code",
   "execution_count": 10,
   "metadata": {},
   "outputs": [
    {
     "name": "stdout",
     "output_type": "stream",
     "text": [
      "Neural Network (MLP) Classifier Results with Under-Sampling:\n",
      "\n",
      "Training Set Accuracy :  0.984776119402985\n",
      "Testing Set Accuracy  :  0.883177570093458\n",
      "\n",
      "Training Set f1 score :  0.9846060971928765\n",
      "Testing  Set f1 score :  0.8756218905472637\n",
      "\n",
      "Test set precision :  1.0\n",
      "Test set recall    :  0.88\n"
     ]
    },
    {
     "data": {
      "image/png": "[encoded data removed]",
      "text/plain": [
       "<Figure size 800x400 with 2 Axes>"
      ]
     },
     "metadata": {},
     "output_type": "display_data"
    }
   ],
   "source": [
    "nn_classifier = MLPClassifier(hidden_layer_sizes=(914,500,250,100,50,1), activation='relu', random_state=42)\n",
    "nn_classifier.fit(X_train_u, Y_train_u)\n",
    "\n",
    "pred_train_nn = nn_classifier.predict(X_train_u)\n",
    "pred_test_nn = nn_classifier.predict(X_test_u)\n",
    "\n",
    "print('Neural Network (MLP) Classifier Results with Under-Sampling:')\n",
    "print()\n",
    "\n",
    "print('Training Set Accuracy : ', accuracy_score(Y_train_u, pred_train_nn))\n",
    "print('Testing Set Accuracy  : ', accuracy_score(Y_test_u, pred_test_nn))\n",
    "\n",
    "\n",
    "# Checking f1 score, precision and recall\n",
    "print()\n",
    "print('Training Set f1 score : ', f1_score(Y_train_u, pred_train_nn))\n",
    "print('Testing  Set f1 score : ', f1_score(Y_test_u, pred_test_nn))\n",
    "print()\n",
    "print('Test set precision : ', precision_score(Y_train_u, pred_train_nn))\n",
    "print('Test set recall    : ', recall_score(Y_test_u, pred_test_nn))\n",
    "\n",
    "# showing confusion matrix results\n",
    "cm = confusion_matrix(Y_test_u, pred_test_nn)\n",
    "\n",
    "plt.figure(figsize = (8,4), dpi = 100)\n",
    "sns.heatmap(cm, annot=True, cmap=\"Blues\")\n",
    "plt.title(\"Confusion Matrix for Neural Network w/ Under-Sampling\")\n",
    "plt.xlabel(\"Predicted\")\n",
    "plt.ylabel(\"True\")\n",
    "plt.show()"
   ]
  },
  {
   "cell_type": "markdown",
   "metadata": {},
   "source": [
    "------------------------------------------------------------------------------------------------------------------------------------------------------------------------------------------------------------------\n",
    "---------------------------------------------------------------------------------------------------------------------------"
   ]
  },
  {
   "cell_type": "markdown",
   "metadata": {},
   "source": [
    "# Logistic Regression Model (Oversampling)\n",
    "\n",
    "**Hyperparameters**\n",
    "- **test_size**: The portion of training data used to test against\n",
    "- **solver**: The solver used to optimize the accuracy of the model\n",
    "- **penalty**: The norm for determining the penalty of contributive variables\n",
    "- **C**: The inverse strength for checking penalty\n",
    "\n",
    "**Tuned Hyperparameters**\n",
    "- **test_size** = 0.06\n",
    "- **solver** = 'newton-cg'\n",
    "- **penalty** = 'l2'\n",
    "- **C** = 1"
   ]
  },
  {
   "cell_type": "code",
   "execution_count": 25,
   "metadata": {},
   "outputs": [
    {
     "name": "stdout",
     "output_type": "stream",
     "text": [
      "Training Data Shape   :  (12650, 914)\n",
      "Training Labels Shape :  (12650,)\n",
      "Testing Data Shape    :  (808, 914)\n",
      "Testing Labels Shape  :  (808,)\n",
      "\n",
      "Logistic Regression Results with Over-Sampling:\n",
      "\n",
      "Training Accuracy :  0.99699604743083\n",
      "Testing  Accuracy :  0.9962871287128713\n",
      "Training Set f1 score :  0.9970003157562362\n",
      "Testing  Set f1 score :  0.996389891696751\n",
      "\n",
      "Test set precision :  0.9940185739020935\n",
      "Test set recall    :  1.0\n"
     ]
    },
    {
     "data": {
      "image/png": "[encoded data removed]",
      "text/plain": [
       "<Figure size 800x400 with 2 Axes>"
      ]
     },
     "metadata": {},
     "output_type": "display_data"
    }
   ],
   "source": [
    "over_sample = RandomOverSampler()\n",
    "x = X[:(int)(len(X)/50)]\n",
    "y = Y[:(int)(len(Y)/50)]\n",
    "X_over, Y_over = over_sample.fit_resample(x,y) # data set used for all over sampled models\n",
    "\n",
    "X_train_o, X_test_o, Y_train_o, Y_test_o = train_test_split(X_over, Y_over, test_size = 0.06, random_state=42)\n",
    "\n",
    "print('Training Data Shape   : ', X_train_o.shape)\n",
    "print('Training Labels Shape : ', Y_train_o.shape)\n",
    "print('Testing Data Shape    : ', X_test_o.shape)\n",
    "print('Testing Labels Shape  : ', Y_test_o.shape)\n",
    "print()\n",
    "\n",
    "lr_model_over = LogisticRegression(max_iter=200, solver='newton-cg', penalty='l2', C=1)\n",
    "lr_model_over.fit(X_train_o,Y_train_o)\n",
    "\n",
    "pred_train_lr2 = lr_model_over.predict(X_train_o)\n",
    "pred_test_lr2  = lr_model_over.predict(X_test_o)\n",
    "\n",
    "print('Logistic Regression Results with Over-Sampling:')\n",
    "print()\n",
    "print('Training Accuracy : ', accuracy_score(Y_train_o, pred_train_lr2))\n",
    "print('Testing  Accuracy : ', accuracy_score(Y_test_o, pred_test_lr2))\n",
    "\n",
    "# Checking f1 score, precision and recall\n",
    "print('Training Set f1 score : ', f1_score(Y_train_o, pred_train_lr2))\n",
    "print('Testing  Set f1 score : ', f1_score(Y_test_o, pred_test_lr2))\n",
    "print()\n",
    "print('Test set precision : ', precision_score(Y_train_o, pred_train_lr2))\n",
    "print('Test set recall    : ', recall_score(Y_test_o, pred_test_lr2))\n",
    "\n",
    "cm = confusion_matrix(Y_test_o, pred_test_lr2)\n",
    "\n",
    "plt.figure(figsize = (8,4), dpi = 100)\n",
    "sns.heatmap(cm, annot=True, cmap=\"Blues\")\n",
    "plt.title(\"Confusion Matrix for Logistic Regression w/ Over-Sampling\")\n",
    "plt.xlabel(\"Predicted\")\n",
    "plt.ylabel(\"True\")\n",
    "plt.show()"
   ]
  },
  {
   "cell_type": "markdown",
   "metadata": {},
   "source": [
    "# Random Forest Model (Oversampling)\n",
    "**estimated run-time: 1-2 minutes (due to size of sample)**\n",
    "\n",
    "**Hyperparameters**\n",
    "- **test_size**: The portion of training data used to test against\n",
    "- **n_estimators**: The number of decision tress that are \"grown\" in random forest\n",
    "- **max_depth**: The maximum depth for each decision tree\n",
    "\n",
    "\n",
    "**Tuned Hyperparameters**\n",
    "- **test_size** = 0.2\n",
    "- **n_estimators** = 100\n",
    "- **max_depth** = 60"
   ]
  },
  {
   "cell_type": "code",
   "execution_count": 26,
   "metadata": {},
   "outputs": [
    {
     "name": "stdout",
     "output_type": "stream",
     "text": [
      "Random Forest Classifier Results with Over-Sampling:\n",
      "\n",
      "Training Set Accuracy :  1.0\n",
      "Testing Set Accuracy  :  1.0\n"
     ]
    }
   ],
   "source": [
    "X_train_o, X_test_o, Y_train_o, Y_test_o = train_test_split(X_over, Y_over, test_size = 0.06, random_state=42)\n",
    "\n",
    "rf_classifier_o = RandomForestClassifier(n_estimators=100, max_depth=60, random_state=42)\n",
    "rf_classifier_o.fit(X_train_o, Y_train_o)\n",
    "\n",
    "pred_train_rf2 = rf_classifier_o.predict(X_train_o)\n",
    "pred_test_rf2 = rf_classifier_o.predict(X_test_o)\n",
    "\n",
    "print('Random Forest Classifier Results with Over-Sampling:')\n",
    "print()\n",
    "\n",
    "print('Training Set Accuracy : ', accuracy_score(Y_train_o, pred_train_rf2))\n",
    "print('Testing Set Accuracy  : ', accuracy_score(Y_test_o, pred_test_rf2))"
   ]
  },
  {
   "cell_type": "markdown",
   "metadata": {},
   "source": [
    "# KNN Model (Oversampling)\n",
    "**Hyperparameters**\n",
    "- **K**: the number of neighbors to compare to a nearby point\n",
    "- **weight**: the method for weighting the importance of neighbors relative to the point\n",
    "\n",
    "**Tuned Hyperparameters**\n",
    "- **K** = 1\n",
    "- **weight** = uniform"
   ]
  },
  {
   "cell_type": "code",
   "execution_count": 42,
   "metadata": {},
   "outputs": [
    {
     "name": "stdout",
     "output_type": "stream",
     "text": [
      "Accuracy: 0.9934483672447808\n",
      "Precision: 0.3522727272727273\n",
      "Recall: 0.25340599455040874\n",
      "F1-score: 0.29477020602218695\n"
     ]
    },
    {
     "data": {
      "image/png": "[encoded data removed]",
      "text/plain": [
       "<Figure size 800x400 with 2 Axes>"
      ]
     },
     "metadata": {},
     "output_type": "display_data"
    }
   ],
   "source": [
    "X_pca_10 = PCA_calc(10,X_over)\n",
    "\n",
    "X_train_pca, X_test_pca, Y_train_pca, Y_test_pca = train_test_split(X_pca_10, Y, test_size = 0.2, random_state=42)\n",
    "\n",
    "knn = KNN(1, 'auto','euclidean', 'uniform', X_train_pca, Y_train_pca)\n",
    "y_pred = knn.predict(X_test_pca)\n",
    "acc = accuracy_score(Y_test_pca, y_pred)\n",
    "\n",
    "print(\"Accuracy:\", accuracy_score(Y_test_pca, y_pred))\n",
    "print(\"Precision:\", precision_score(Y_test_pca, y_pred))\n",
    "print(\"Recall:\", recall_score(Y_test_pca, y_pred))\n",
    "print(\"F1-score:\", f1_score(Y_test_pca, y_pred))\n",
    "\n",
    "# showing confusion matrix results\n",
    "cm = confusion_matrix(Y_test_pca, y_pred)\n",
    "\n",
    "plt.figure(figsize = (8,4), dpi = 100)\n",
    "sns.heatmap(cm, annot=True, cmap=\"Blues\")\n",
    "plt.title(\"Confusion Matrix for KNN w/ PCA\")\n",
    "plt.xlabel(\"Predicted\")\n",
    "plt.ylabel(\"True\")\n",
    "plt.show()"
   ]
  }
 ],
 "metadata": {
  "kernelspec": {
   "display_name": "Python 3 (ipykernel)",
   "language": "python",
   "name": "python3"
  },
  "language_info": {
   "codemirror_mode": {
    "name": "ipython",
    "version": 3
   },
   "file_extension": ".py",
   "mimetype": "text/x-python",
   "name": "python",
   "nbconvert_exporter": "python",
   "pygments_lexer": "ipython3",
   "version": "3.10.9"
  }
 },
 "nbformat": 4,
 "nbformat_minor": 2
}
